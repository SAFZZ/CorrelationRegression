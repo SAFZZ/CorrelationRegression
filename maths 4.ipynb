{
 "cells": [
  {
   "cell_type": "code",
   "execution_count": 6,
   "metadata": {},
   "outputs": [
    {
     "name": "stdout",
     "output_type": "stream",
     "text": [
      "The Correlation Coefficient is -0.394\n"
     ]
    }
   ],
   "source": [
    "import math\n",
    "import numpy as np\n",
    "import matplotlib.pyplot as plt\n",
    "x=[25, 28, 35, 32, 31, 36, 29, 38, 34, 32]\n",
    "y=[43, 46, 49, 41, 36, 32, 31, 30, 33, 39]\n",
    "sx=0\n",
    "sy=0\n",
    "sxy=0\n",
    "sx2=0\n",
    "sy2=0\n",
    "for i in range(0,10):\n",
    "    sx=sx+x[i]\n",
    "    sy=sy+y[i]\n",
    "    sxy=sxy+x[i]*y[i]\n",
    "    sx2=sx2+x[i]**2\n",
    "    sy2=sy2+y[i]**2\n",
    "    N=10\n",
    "r=(N*sxy-sx*sy)/(math.sqrt(N*sx2-sx**2)*math.sqrt(N*sy2-sy**2))\n",
    "print(\"The Correlation Coefficient is %0.3f\"%r)"
   ]
  },
  {
   "cell_type": "code",
   "execution_count": 9,
   "metadata": {},
   "outputs": [
    {
     "name": "stdout",
     "output_type": "stream",
     "text": [
      "The regression line Y on X is ::: Y=38.000 -0.664 (X- 32.000)\n"
     ]
    },
    {
     "data": {
      "text/plain": [
       "Text(0, 0.5, 'y-data')"
      ]
     },
     "execution_count": 9,
     "metadata": {},
     "output_type": "execute_result"
    },
    {
     "data": {
      "image/png": "[encoded data removed]",
      "text/plain": [
       "<Figure size 432x288 with 1 Axes>"
      ]
     },
     "metadata": {
      "needs_background": "light"
     },
     "output_type": "display_data"
    }
   ],
   "source": [
    "byx=(N*sxy-sx*sy)/(N*sx2-sx**2)\n",
    "xmean=sx/N\n",
    "ymean=sy/N\n",
    "print(\"The regression line Y on X is ::: Y=%0.3f %0.3f (X- %0.3f)\"% (ymean,byx,xmean))\n",
    "plt.scatter(x,y)\n",
    "def Reg(x):\n",
    "    return ymean + byx*(x-xmean)\n",
    "x=np.linspace(20,40,51)\n",
    "y1=Reg(x)\n",
    "plt.plot(x,y1,'r')\n",
    "plt.xlabel('x-data')\n",
    "plt.ylabel('y-data')"
   ]
  },
  {
   "cell_type": "code",
   "execution_count": null,
   "metadata": {},
   "outputs": [],
   "source": []
  }
 ],
 "metadata": {
  "kernelspec": {
   "display_name": "Python 3",
   "language": "python",
   "name": "python3"
  },
  "language_info": {
   "codemirror_mode": {
    "name": "ipython",
    "version": 3
   },
   "file_extension": ".py",
   "mimetype": "text/x-python",
   "name": "python",
   "nbconvert_exporter": "python",
   "pygments_lexer": "ipython3",
   "version": "3.8.5"
  }
 },
 "nbformat": 4,
 "nbformat_minor": 4
}
